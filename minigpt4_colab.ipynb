{
  "cells": [
    {
      "cell_type": "markdown",
      "metadata": {
        "id": "view-in-github",
        "colab_type": "text"
      },
      "source": [
        "<a href=\"https://colab.research.google.com/github/BilalChaudhry33/BilalChaudhry33/blob/main/minigpt4_colab.ipynb\" target=\"_parent\"><img src=\"https://colab.research.google.com/assets/colab-badge.svg\" alt=\"Open In Colab\"/></a>"
      ]
    },
    {
      "cell_type": "code",
      "execution_count": 1,
      "metadata": {
        "id": "QdfSfmJD4fAc",
        "outputId": "a72c9bd8-b8b8-44e0-8e5a-be481acfe3d5",
        "colab": {
          "base_uri": "https://localhost:8080/"
        }
      },
      "outputs": [
        {
          "output_type": "stream",
          "name": "stdout",
          "text": [
            "Cloning into 'minigpt4'...\n",
            "remote: Enumerating objects: 372, done.\u001b[K\n",
            "remote: Counting objects: 100% (90/90), done.\u001b[K\n",
            "remote: Compressing objects: 100% (20/20), done.\u001b[K\n",
            "remote: Total 372 (delta 77), reused 70 (delta 70), pack-reused 282 (from 1)\u001b[K\n",
            "Receiving objects: 100% (372/372), 13.41 MiB | 16.06 MiB/s, done.\n",
            "Resolving deltas: 100% (171/171), done.\n",
            "Downloading blip2_pretrained_flant5xxl.pth (434 MB)\n",
            "Error downloading object: blip2_pretrained_flant5xxl.pth (4b3839e): Smudge error: Error downloading blip2_pretrained_flant5xxl.pth (4b3839ea6c617f315ead9bf4036bbb0f0cf6bf62695ecfc14968ea626af03a29): [4b3839ea6c617f315ead9bf4036bbb0f0cf6bf62695ecfc14968ea626af03a29] Object does not exist on the server: [404] Object does not exist on the server\n",
            "\n",
            "Errors logged to /content/minigpt4/.git/lfs/logs/20250629T090754.882760433.log\n",
            "Use `git lfs logs last` to view the log.\n",
            "error: external filter 'git-lfs filter-process' failed\n",
            "fatal: blip2_pretrained_flant5xxl.pth: smudge filter lfs failed\n",
            "warning: Clone succeeded, but checkout failed.\n",
            "You can inspect what was checked out with 'git status'\n",
            "and retry with 'git restore --source=HEAD :/'\n",
            "\n",
            "--2025-06-29 09:07:54--  https://huggingface.co/ckpt/minigpt4/resolve/main/minigpt4.pth\n",
            "Resolving huggingface.co (huggingface.co)... 18.164.174.55, 18.164.174.17, 18.164.174.118, ...\n",
            "Connecting to huggingface.co (huggingface.co)|18.164.174.55|:443... connected.\n",
            "HTTP request sent, awaiting response... 302 Found\n",
            "Location: https://cdn-lfs.hf.co/repos/7b/e1/7be1a8703e08e094358fea43dca377ea97f1f6529d2d446e50ab117c22702d43/1e7b8a3c21f146654c21a1a29a577dab2c3bd1aa3b1bc902f39e86954357a811?response-content-disposition=inline%3B+filename*%3DUTF-8%27%27minigpt4.pth%3B+filename%3D%22minigpt4.pth%22%3B&Expires=1751191675&Policy=eyJTdGF0ZW1lbnQiOlt7IkNvbmRpdGlvbiI6eyJEYXRlTGVzc1RoYW4iOnsiQVdTOkVwb2NoVGltZSI6MTc1MTE5MTY3NX19LCJSZXNvdXJjZSI6Imh0dHBzOi8vY2RuLWxmcy5oZi5jby9yZXBvcy83Yi9lMS83YmUxYTg3MDNlMDhlMDk0MzU4ZmVhNDNkY2EzNzdlYTk3ZjFmNjUyOWQyZDQ0NmU1MGFiMTE3YzIyNzAyZDQzLzFlN2I4YTNjMjFmMTQ2NjU0YzIxYTFhMjlhNTc3ZGFiMmMzYmQxYWEzYjFiYzkwMmYzOWU4Njk1NDM1N2E4MTE%7EcmVzcG9uc2UtY29udGVudC1kaXNwb3NpdGlvbj0qIn1dfQ__&Signature=I7xb1WxGKA48wMCi9i7ne76JiZG3BNZxn0i%7EFyRiGhYw41cwNI9-sU-CZgZdQkTNPl6RcmelrzgItXLFKbBfHzALs2L%7EvKjR97AUEAOz78%7E0zDbYwVR8Pr%7EL-Jm-MVtTzGOWVgGb8ysj1PWwNTaGUitP4G5plTkw%7EXopiLsMtu8CtgROM6wFlY9dl14xFc8r8HHhGsnhH3gl49pjisfY6qr0qq0dzifpG1Cy09NTVGKXkIgz4fr8zconS6EXzc%7E6iy6V9rp1%7EtB%7EsVD3sV56ynIdvf8MKhwhOKaqjufEWTdvAWL3S12iL7uJuSTFMrWbxu9vt0o%7EFeqv6zpAfrxRFQ__&Key-Pair-Id=K3RPWS32NSSJCE [following]\n",
            "--2025-06-29 09:07:55--  https://cdn-lfs.hf.co/repos/7b/e1/7be1a8703e08e094358fea43dca377ea97f1f6529d2d446e50ab117c22702d43/1e7b8a3c21f146654c21a1a29a577dab2c3bd1aa3b1bc902f39e86954357a811?response-content-disposition=inline%3B+filename*%3DUTF-8%27%27minigpt4.pth%3B+filename%3D%22minigpt4.pth%22%3B&Expires=1751191675&Policy=eyJTdGF0ZW1lbnQiOlt7IkNvbmRpdGlvbiI6eyJEYXRlTGVzc1RoYW4iOnsiQVdTOkVwb2NoVGltZSI6MTc1MTE5MTY3NX19LCJSZXNvdXJjZSI6Imh0dHBzOi8vY2RuLWxmcy5oZi5jby9yZXBvcy83Yi9lMS83YmUxYTg3MDNlMDhlMDk0MzU4ZmVhNDNkY2EzNzdlYTk3ZjFmNjUyOWQyZDQ0NmU1MGFiMTE3YzIyNzAyZDQzLzFlN2I4YTNjMjFmMTQ2NjU0YzIxYTFhMjlhNTc3ZGFiMmMzYmQxYWEzYjFiYzkwMmYzOWU4Njk1NDM1N2E4MTE%7EcmVzcG9uc2UtY29udGVudC1kaXNwb3NpdGlvbj0qIn1dfQ__&Signature=I7xb1WxGKA48wMCi9i7ne76JiZG3BNZxn0i%7EFyRiGhYw41cwNI9-sU-CZgZdQkTNPl6RcmelrzgItXLFKbBfHzALs2L%7EvKjR97AUEAOz78%7E0zDbYwVR8Pr%7EL-Jm-MVtTzGOWVgGb8ysj1PWwNTaGUitP4G5plTkw%7EXopiLsMtu8CtgROM6wFlY9dl14xFc8r8HHhGsnhH3gl49pjisfY6qr0qq0dzifpG1Cy09NTVGKXkIgz4fr8zconS6EXzc%7E6iy6V9rp1%7EtB%7EsVD3sV56ynIdvf8MKhwhOKaqjufEWTdvAWL3S12iL7uJuSTFMrWbxu9vt0o%7EFeqv6zpAfrxRFQ__&Key-Pair-Id=K3RPWS32NSSJCE\n",
            "Resolving cdn-lfs.hf.co (cdn-lfs.hf.co)... 3.169.231.115, 3.169.231.87, 3.169.231.38, ...\n",
            "Connecting to cdn-lfs.hf.co (cdn-lfs.hf.co)|3.169.231.115|:443... connected.\n",
            "HTTP request sent, awaiting response... 200 OK\n",
            "Length: 47369169 (45M) [binary/octet-stream]\n",
            "Saving to: ‘/content/minigpt4/checkpoint.pth’\n",
            "\n",
            "/content/minigpt4/c 100%[===================>]  45.17M   188MB/s    in 0.2s    \n",
            "\n",
            "2025-06-29 09:07:55 (188 MB/s) - ‘/content/minigpt4/checkpoint.pth’ saved [47369169/47369169]\n",
            "\n",
            "--2025-06-29 09:07:55--  https://huggingface.co/ckpt/minigpt4/resolve/main/blip2_pretrained_flant5xxl.pth\n",
            "Resolving huggingface.co (huggingface.co)... 3.168.86.127, 3.168.86.111, 3.168.86.96, ...\n",
            "Connecting to huggingface.co (huggingface.co)|3.168.86.127|:443... connected.\n",
            "HTTP request sent, awaiting response... 302 Found\n",
            "Location: https://cdn-lfs.hf.co/repos/7b/e1/7be1a8703e08e094358fea43dca377ea97f1f6529d2d446e50ab117c22702d43/4b3839ea6c617f315ead9bf4036bbb0f0cf6bf62695ecfc14968ea626af03a29?response-content-disposition=inline%3B+filename*%3DUTF-8%27%27blip2_pretrained_flant5xxl.pth%3B+filename%3D%22blip2_pretrained_flant5xxl.pth%22%3B&Expires=1751191675&Policy=eyJTdGF0ZW1lbnQiOlt7IkNvbmRpdGlvbiI6eyJEYXRlTGVzc1RoYW4iOnsiQVdTOkVwb2NoVGltZSI6MTc1MTE5MTY3NX19LCJSZXNvdXJjZSI6Imh0dHBzOi8vY2RuLWxmcy5oZi5jby9yZXBvcy83Yi9lMS83YmUxYTg3MDNlMDhlMDk0MzU4ZmVhNDNkY2EzNzdlYTk3ZjFmNjUyOWQyZDQ0NmU1MGFiMTE3YzIyNzAyZDQzLzRiMzgzOWVhNmM2MTdmMzE1ZWFkOWJmNDAzNmJiYjBmMGNmNmJmNjI2OTVlY2ZjMTQ5NjhlYTYyNmFmMDNhMjk%7EcmVzcG9uc2UtY29udGVudC1kaXNwb3NpdGlvbj0qIn1dfQ__&Signature=P26cWVX8YzwzRrggj82U43dDjwTz06-9HzZ8OOdJ362QMkVipZcaJdXrgi9NEy7hkwzBkuQJbAdbJXancbpb3oZrP34NGwWpwAOsXzfVVJAT4kyylBFPI37PaSaxqQkr8iN%7ECtcjYQA5SwTrg1jEWGIT3Gbmwzdsa945rpvR5RpORH26-79YeSCJ5UbUiNsa-P0ZFCRyb%7EkaWEP0hx-GT105njO%7EBBZbnTHkXJ9sxtNwZpFZw3OnRZEeVtY8WhViYGYnkbf0VzQOexs3LSjQh9p0MyeQ9NOQkwOxJo3KNHwFNlVxD0qMKN-iUroAEDzjSjk0ppfjQXL1TAtjsY-k1Q__&Key-Pair-Id=K3RPWS32NSSJCE [following]\n",
            "--2025-06-29 09:07:55--  https://cdn-lfs.hf.co/repos/7b/e1/7be1a8703e08e094358fea43dca377ea97f1f6529d2d446e50ab117c22702d43/4b3839ea6c617f315ead9bf4036bbb0f0cf6bf62695ecfc14968ea626af03a29?response-content-disposition=inline%3B+filename*%3DUTF-8%27%27blip2_pretrained_flant5xxl.pth%3B+filename%3D%22blip2_pretrained_flant5xxl.pth%22%3B&Expires=1751191675&Policy=eyJTdGF0ZW1lbnQiOlt7IkNvbmRpdGlvbiI6eyJEYXRlTGVzc1RoYW4iOnsiQVdTOkVwb2NoVGltZSI6MTc1MTE5MTY3NX19LCJSZXNvdXJjZSI6Imh0dHBzOi8vY2RuLWxmcy5oZi5jby9yZXBvcy83Yi9lMS83YmUxYTg3MDNlMDhlMDk0MzU4ZmVhNDNkY2EzNzdlYTk3ZjFmNjUyOWQyZDQ0NmU1MGFiMTE3YzIyNzAyZDQzLzRiMzgzOWVhNmM2MTdmMzE1ZWFkOWJmNDAzNmJiYjBmMGNmNmJmNjI2OTVlY2ZjMTQ5NjhlYTYyNmFmMDNhMjk%7EcmVzcG9uc2UtY29udGVudC1kaXNwb3NpdGlvbj0qIn1dfQ__&Signature=P26cWVX8YzwzRrggj82U43dDjwTz06-9HzZ8OOdJ362QMkVipZcaJdXrgi9NEy7hkwzBkuQJbAdbJXancbpb3oZrP34NGwWpwAOsXzfVVJAT4kyylBFPI37PaSaxqQkr8iN%7ECtcjYQA5SwTrg1jEWGIT3Gbmwzdsa945rpvR5RpORH26-79YeSCJ5UbUiNsa-P0ZFCRyb%7EkaWEP0hx-GT105njO%7EBBZbnTHkXJ9sxtNwZpFZw3OnRZEeVtY8WhViYGYnkbf0VzQOexs3LSjQh9p0MyeQ9NOQkwOxJo3KNHwFNlVxD0qMKN-iUroAEDzjSjk0ppfjQXL1TAtjsY-k1Q__&Key-Pair-Id=K3RPWS32NSSJCE\n",
            "Resolving cdn-lfs.hf.co (cdn-lfs.hf.co)... 3.169.231.115, 3.169.231.87, 3.169.231.38, ...\n",
            "Connecting to cdn-lfs.hf.co (cdn-lfs.hf.co)|3.169.231.115|:443... connected.\n",
            "HTTP request sent, awaiting response... 200 OK\n",
            "Length: 433481467 (413M) [binary/octet-stream]\n",
            "Saving to: ‘/content/minigpt4/blip2_pretrained_flant5xxl.pth’\n",
            "\n",
            "/content/minigpt4/b 100%[===================>] 413.40M   313MB/s    in 1.3s    \n",
            "\n",
            "2025-06-29 09:07:56 (313 MB/s) - ‘/content/minigpt4/blip2_pretrained_flant5xxl.pth’ saved [433481467/433481467]\n",
            "\n",
            "  Preparing metadata (setup.py) ... \u001b[?25l\u001b[?25hdone\n",
            "\u001b[2K     \u001b[90m━━━━━━━━━━━━━━━━━━━━━━━━━━━━━━━━━━━━━━━\u001b[0m \u001b[32m235.4/235.4 kB\u001b[0m \u001b[31m7.8 MB/s\u001b[0m eta \u001b[36m0:00:00\u001b[0m\n",
            "\u001b[?25h  Installing build dependencies ... \u001b[?25l\u001b[?25hdone\n",
            "  Getting requirements to build wheel ... \u001b[?25l\u001b[?25hdone\n",
            "  Installing backend dependencies ... \u001b[?25l\u001b[?25hdone\n",
            "  Preparing metadata (pyproject.toml) ... \u001b[?25l\u001b[?25hdone\n",
            "\u001b[2K     \u001b[90m━━━━━━━━━━━━━━━━━━━━━━━━━━━━━━━━━━━━━━━━\u001b[0m \u001b[32m42.2/42.2 kB\u001b[0m \u001b[31m4.0 MB/s\u001b[0m eta \u001b[36m0:00:00\u001b[0m\n",
            "\u001b[?25h  Preparing metadata (setup.py) ... \u001b[?25l\u001b[?25hdone\n",
            "\u001b[2K     \u001b[90m━━━━━━━━━━━━━━━━━━━━━━━━━━━━━━━━━━━━━━\u001b[0m \u001b[32m100.3/100.3 kB\u001b[0m \u001b[31m10.1 MB/s\u001b[0m eta \u001b[36m0:00:00\u001b[0m\n",
            "\u001b[2K     \u001b[90m━━━━━━━━━━━━━━━━━━━━━━━━━━━━━━━━━━━━━━━━\u001b[0m \u001b[32m44.3/44.3 kB\u001b[0m \u001b[31m3.6 MB/s\u001b[0m eta \u001b[36m0:00:00\u001b[0m\n",
            "\u001b[2K   \u001b[90m━━━━━━━━━━━━━━━━━━━━━━━━━━━━━━━━━━━━━━━━\u001b[0m \u001b[32m1.8/1.8 MB\u001b[0m \u001b[31m57.4 MB/s\u001b[0m eta \u001b[36m0:00:00\u001b[0m\n",
            "\u001b[2K   \u001b[90m━━━━━━━━━━━━━━━━━━━━━━━━━━━━━━━━━━━━━━━━\u001b[0m \u001b[32m47.8/47.8 MB\u001b[0m \u001b[31m14.1 MB/s\u001b[0m eta \u001b[36m0:00:00\u001b[0m\n",
            "\u001b[2K   \u001b[90m━━━━━━━━━━━━━━━━━━━━━━━━━━━━━━━━━━━━━━━━\u001b[0m \u001b[32m377.0/377.0 kB\u001b[0m \u001b[31m32.4 MB/s\u001b[0m eta \u001b[36m0:00:00\u001b[0m\n",
            "\u001b[2K   \u001b[90m━━━━━━━━━━━━━━━━━━━━━━━━━━━━━━━━━━━━━━━━\u001b[0m \u001b[32m363.4/363.4 MB\u001b[0m \u001b[31m1.5 MB/s\u001b[0m eta \u001b[36m0:00:00\u001b[0m\n",
            "\u001b[2K   \u001b[90m━━━━━━━━━━━━━━━━━━━━━━━━━━━━━━━━━━━━━━━━\u001b[0m \u001b[32m13.8/13.8 MB\u001b[0m \u001b[31m128.1 MB/s\u001b[0m eta \u001b[36m0:00:00\u001b[0m\n",
            "\u001b[2K   \u001b[90m━━━━━━━━━━━━━━━━━━━━━━━━━━━━━━━━━━━━━━━━\u001b[0m \u001b[32m24.6/24.6 MB\u001b[0m \u001b[31m93.4 MB/s\u001b[0m eta \u001b[36m0:00:00\u001b[0m\n",
            "\u001b[2K   \u001b[90m━━━━━━━━━━━━━━━━━━━━━━━━━━━━━━━━━━━━━━━━\u001b[0m \u001b[32m883.7/883.7 kB\u001b[0m \u001b[31m53.4 MB/s\u001b[0m eta \u001b[36m0:00:00\u001b[0m\n",
            "\u001b[2K   \u001b[90m━━━━━━━━━━━━━━━━━━━━━━━━━━━━━━━━━━━━━━━━\u001b[0m \u001b[32m664.8/664.8 MB\u001b[0m \u001b[31m2.0 MB/s\u001b[0m eta \u001b[36m0:00:00\u001b[0m\n",
            "\u001b[2K   \u001b[90m━━━━━━━━━━━━━━━━━━━━━━━━━━━━━━━━━━━━━━━━\u001b[0m \u001b[32m211.5/211.5 MB\u001b[0m \u001b[31m6.2 MB/s\u001b[0m eta \u001b[36m0:00:00\u001b[0m\n",
            "\u001b[2K   \u001b[90m━━━━━━━━━━━━━━━━━━━━━━━━━━━━━━━━━━━━━━━━\u001b[0m \u001b[32m56.3/56.3 MB\u001b[0m \u001b[31m13.0 MB/s\u001b[0m eta \u001b[36m0:00:00\u001b[0m\n",
            "\u001b[2K   \u001b[90m━━━━━━━━━━━━━━━━━━━━━━━━━━━━━━━━━━━━━━━━\u001b[0m \u001b[32m127.9/127.9 MB\u001b[0m \u001b[31m7.4 MB/s\u001b[0m eta \u001b[36m0:00:00\u001b[0m\n",
            "\u001b[2K   \u001b[90m━━━━━━━━━━━━━━━━━━━━━━━━━━━━━━━━━━━━━━━━\u001b[0m \u001b[32m207.5/207.5 MB\u001b[0m \u001b[31m5.3 MB/s\u001b[0m eta \u001b[36m0:00:00\u001b[0m\n",
            "\u001b[2K   \u001b[90m━━━━━━━━━━━━━━━━━━━━━━━━━━━━━━━━━━━━━━━━\u001b[0m \u001b[32m21.1/21.1 MB\u001b[0m \u001b[31m113.3 MB/s\u001b[0m eta \u001b[36m0:00:00\u001b[0m\n",
            "\u001b[2K   \u001b[90m━━━━━━━━━━━━━━━━━━━━━━━━━━━━━━━━━━━━━━━━\u001b[0m \u001b[32m6.3/6.3 MB\u001b[0m \u001b[31m120.7 MB/s\u001b[0m eta \u001b[36m0:00:00\u001b[0m\n",
            "\u001b[2K   \u001b[90m━━━━━━━━━━━━━━━━━━━━━━━━━━━━━━━━━━━━━━━━\u001b[0m \u001b[32m13.6/13.6 MB\u001b[0m \u001b[31m128.7 MB/s\u001b[0m eta \u001b[36m0:00:00\u001b[0m\n",
            "\u001b[2K   \u001b[90m━━━━━━━━━━━━━━━━━━━━━━━━━━━━━━━━━━━━━━━━\u001b[0m \u001b[32m44.8/44.8 kB\u001b[0m \u001b[31m3.9 MB/s\u001b[0m eta \u001b[36m0:00:00\u001b[0m\n",
            "\u001b[2K   \u001b[90m━━━━━━━━━━━━━━━━━━━━━━━━━━━━━━━━━━━━━━━━\u001b[0m \u001b[32m220.7/220.7 kB\u001b[0m \u001b[31m22.9 MB/s\u001b[0m eta \u001b[36m0:00:00\u001b[0m\n",
            "\u001b[2K   \u001b[90m━━━━━━━━━━━━━━━━━━━━━━━━━━━━━━━━━━━━━━━━\u001b[0m \u001b[32m104.3/104.3 MB\u001b[0m \u001b[31m8.1 MB/s\u001b[0m eta \u001b[36m0:00:00\u001b[0m\n",
            "\u001b[2K   \u001b[90m━━━━━━━━━━━━━━━━━━━━━━━━━━━━━━━━━━━━━━━━\u001b[0m \u001b[32m10.1/10.1 MB\u001b[0m \u001b[31m95.0 MB/s\u001b[0m eta \u001b[36m0:00:00\u001b[0m\n",
            "\u001b[2K   \u001b[90m━━━━━━━━━━━━━━━━━━━━━━━━━━━━━━━━━━━━━━━━\u001b[0m \u001b[32m75.0/75.0 kB\u001b[0m \u001b[31m6.8 MB/s\u001b[0m eta \u001b[36m0:00:00\u001b[0m\n",
            "\u001b[2K   \u001b[90m━━━━━━━━━━━━━━━━━━━━━━━━━━━━━━━━━━━━━━━━\u001b[0m \u001b[32m99.1/99.1 kB\u001b[0m \u001b[31m9.6 MB/s\u001b[0m eta \u001b[36m0:00:00\u001b[0m\n",
            "\u001b[2K   \u001b[90m━━━━━━━━━━━━━━━━━━━━━━━━━━━━━━━━━━━━━━━━\u001b[0m \u001b[32m1.6/1.6 MB\u001b[0m \u001b[31m68.1 MB/s\u001b[0m eta \u001b[36m0:00:00\u001b[0m\n",
            "\u001b[2K   \u001b[90m━━━━━━━━━━━━━━━━━━━━━━━━━━━━━━━━━━━━━━━━\u001b[0m \u001b[32m6.9/6.9 MB\u001b[0m \u001b[31m98.7 MB/s\u001b[0m eta \u001b[36m0:00:00\u001b[0m\n",
            "\u001b[2K   \u001b[90m━━━━━━━━━━━━━━━━━━━━━━━━━━━━━━━━━━━━━━━━\u001b[0m \u001b[32m7.8/7.8 MB\u001b[0m \u001b[31m108.3 MB/s\u001b[0m eta \u001b[36m0:00:00\u001b[0m\n",
            "\u001b[2K   \u001b[90m━━━━━━━━━━━━━━━━━━━━━━━━━━━━━━━━━━━━━━━━\u001b[0m \u001b[32m6.1/6.1 MB\u001b[0m \u001b[31m100.9 MB/s\u001b[0m eta \u001b[36m0:00:00\u001b[0m\n",
            "\u001b[2K   \u001b[90m━━━━━━━━━━━━━━━━━━━━━━━━━━━━━━━━━━━━━━━━\u001b[0m \u001b[32m79.1/79.1 kB\u001b[0m \u001b[31m7.1 MB/s\u001b[0m eta \u001b[36m0:00:00\u001b[0m\n",
            "\u001b[2K   \u001b[90m━━━━━━━━━━━━━━━━━━━━━━━━━━━━━━━━━━━━━━━━\u001b[0m \u001b[32m469.0/469.0 kB\u001b[0m \u001b[31m36.1 MB/s\u001b[0m eta \u001b[36m0:00:00\u001b[0m\n",
            "\u001b[?25h  Building wheel for fairscale (pyproject.toml) ... \u001b[?25l\u001b[?25hdone\n",
            "  Building wheel for contexttimer (setup.py) ... \u001b[?25l\u001b[?25hdone\n",
            "  Building wheel for iopath (setup.py) ... \u001b[?25l\u001b[?25hdone\n",
            "\u001b[31mERROR: pip's dependency resolver does not currently take into account all the packages that are installed. This behaviour is the source of the following dependency conflicts.\n",
            "albumentations 2.0.8 requires opencv-python-headless>=4.9.0.80, but you have opencv-python-headless 4.5.5.64 which is incompatible.\n",
            "albucore 0.0.24 requires opencv-python-headless>=4.9.0.80, but you have opencv-python-headless 4.5.5.64 which is incompatible.\n",
            "sentence-transformers 4.1.0 requires transformers<5.0.0,>=4.41.0, but you have transformers 4.26.1 which is incompatible.\u001b[0m\u001b[31m\n",
            "\u001b[2K   \u001b[90m━━━━━━━━━━━━━━━━━━━━━━━━━━━━━━━━━━━━━━━━\u001b[0m \u001b[32m67.0/67.0 MB\u001b[0m \u001b[31m10.2 MB/s\u001b[0m eta \u001b[36m0:00:00\u001b[0m\n",
            "\u001b[2K   \u001b[90m━━━━━━━━━━━━━━━━━━━━━━━━━━━━━━━━━━━━━━━━\u001b[0m \u001b[32m17.3/17.3 MB\u001b[0m \u001b[31m18.2 MB/s\u001b[0m eta \u001b[36m0:00:00\u001b[0m\n",
            "\u001b[2K   \u001b[90m━━━━━━━━━━━━━━━━━━━━━━━━━━━━━━━━━━━━━━━━\u001b[0m \u001b[32m84.5/84.5 kB\u001b[0m \u001b[31m7.8 MB/s\u001b[0m eta \u001b[36m0:00:00\u001b[0m\n",
            "\u001b[2K   \u001b[90m━━━━━━━━━━━━━━━━━━━━━━━━━━━━━━━━━━━━━━━━\u001b[0m \u001b[32m50.5/50.5 kB\u001b[0m \u001b[31m4.6 MB/s\u001b[0m eta \u001b[36m0:00:00\u001b[0m\n",
            "\u001b[?25h  Installing build dependencies ... \u001b[?25l\u001b[?25hdone\n",
            "  Getting requirements to build wheel ... \u001b[?25l\u001b[?25hdone\n",
            "  Preparing metadata (pyproject.toml) ... \u001b[?25l\u001b[?25hdone\n",
            "\u001b[2K   \u001b[90m━━━━━━━━━━━━━━━━━━━━━━━━━━━━━━━━━━━━━━━━\u001b[0m \u001b[32m3.1/3.1 MB\u001b[0m \u001b[31m45.4 MB/s\u001b[0m eta \u001b[36m0:00:00\u001b[0m\n",
            "\u001b[?25h  Building wheel for transformers (pyproject.toml) ... \u001b[?25l\u001b[?25hdone\n",
            "\u001b[31mERROR: pip's dependency resolver does not currently take into account all the packages that are installed. This behaviour is the source of the following dependency conflicts.\n",
            "salesforce-lavis 1.0.2 requires transformers<4.27,>=4.25.0, but you have transformers 4.54.0.dev0 which is incompatible.\u001b[0m\u001b[31m\n",
            "\u001b[0m/content/minigpt4\n",
            "/usr/local/lib/python3.11/dist-packages/gradio_client/documentation.py:106: UserWarning: Could not get documentation group for <class 'gradio.mix.Parallel'>: No known documentation group for module 'gradio.mix'\n",
            "  warnings.warn(f\"Could not get documentation group for {cls}: {exc}\")\n",
            "/usr/local/lib/python3.11/dist-packages/gradio_client/documentation.py:106: UserWarning: Could not get documentation group for <class 'gradio.mix.Series'>: No known documentation group for module 'gradio.mix'\n",
            "  warnings.warn(f\"Could not get documentation group for {cls}: {exc}\")\n",
            "RuntimeError: module compiled against ABI version 0x1000009 but this version of numpy is 0x2000000\n",
            "Traceback (most recent call last):\n",
            "  File \"/content/minigpt4/app.py\", line 10, in <module>\n",
            "    from minigpt4.common.config import Config\n",
            "  File \"/content/minigpt4/minigpt4/__init__.py\", line 15, in <module>\n",
            "    from minigpt4.datasets.builders import *\n",
            "  File \"/content/minigpt4/minigpt4/datasets/builders/__init__.py\", line 8, in <module>\n",
            "    from minigpt4.datasets.builders.base_dataset_builder import load_dataset_config\n",
            "  File \"/content/minigpt4/minigpt4/datasets/builders/base_dataset_builder.py\", line 20, in <module>\n",
            "    from minigpt4.processors.base_processor import BaseProcessor\n",
            "  File \"/content/minigpt4/minigpt4/processors/__init__.py\", line 9, in <module>\n",
            "    from minigpt4.processors.blip_processors import (\n",
            "  File \"/content/minigpt4/minigpt4/processors/blip_processors.py\", line 12, in <module>\n",
            "    from minigpt4.processors.randaugment import RandomAugment\n",
            "  File \"/content/minigpt4/minigpt4/processors/randaugment.py\", line 8, in <module>\n",
            "    import cv2\n",
            "  File \"/usr/local/lib/python3.11/dist-packages/cv2/__init__.py\", line 8, in <module>\n",
            "    from .cv2 import *\n",
            "ImportError: numpy.core.multiarray failed to import\n"
          ]
        }
      ],
      "source": [
        "!git clone -b dev https://github.com/camenduru/minigpt4\n",
        "!wget https://huggingface.co/ckpt/minigpt4/resolve/main/minigpt4.pth -O /content/minigpt4/checkpoint.pth\n",
        "!wget https://huggingface.co/ckpt/minigpt4/resolve/main/blip2_pretrained_flant5xxl.pth -O /content/minigpt4/blip2_pretrained_flant5xxl.pth\n",
        "\n",
        "!pip install -q salesforce-lavis\n",
        "!pip install -q bitsandbytes\n",
        "!pip install -q accelerate\n",
        "!pip install -q gradio==3.27.0\n",
        "!pip install -q git+https://github.com/huggingface/transformers.git -U\n",
        "\n",
        "%cd /content/minigpt4\n",
        "!python app.py"
      ]
    },
    {
      "cell_type": "code",
      "source": [
        "!pip install -r requirements.txt --use-deprecated=legacy-resolver\n",
        "\n"
      ],
      "metadata": {
        "id": "_3O3YLNa9mX2",
        "outputId": "0af9f535-2af1-4b99-e5be-5665a59e0e5f",
        "colab": {
          "base_uri": "https://localhost:8080/"
        }
      },
      "execution_count": 2,
      "outputs": [
        {
          "output_type": "stream",
          "name": "stdout",
          "text": [
            "Looking in indexes: https://pypi.org/simple, https://download.pytorch.org/whl/cu113\n",
            "Collecting git+https://github.com/huggingface/transformers.git (from -r requirements.txt (line 7))\n",
            "  Cloning https://github.com/huggingface/transformers.git to /tmp/pip-req-build-uuycikjb\n",
            "  Running command git clone --filter=blob:none --quiet https://github.com/huggingface/transformers.git /tmp/pip-req-build-uuycikjb\n",
            "  Resolved https://github.com/huggingface/transformers.git to commit ccf2ca162e33f381e454cdb74bf4b41a51ab976d\n",
            "  Installing build dependencies ... \u001b[?25l\u001b[?25hdone\n",
            "  Getting requirements to build wheel ... \u001b[?25l\u001b[?25hdone\n",
            "  Preparing metadata (pyproject.toml) ... \u001b[?25l\u001b[?25hdone\n",
            "Requirement already satisfied (use --upgrade to upgrade): transformers==4.54.0.dev0 from git+https://github.com/huggingface/transformers.git in /usr/local/lib/python3.11/dist-packages (from -r requirements.txt (line 7))\n",
            "\u001b[31mERROR: Could not find a version that satisfies the requirement torch==1.12.1 (from -r requirements.txt (line 2)) (from versions: 1.13.0, 1.13.1, 2.0.0, 2.0.1, 2.1.0, 2.1.1, 2.1.2, 2.2.0, 2.2.1, 2.2.2, 2.3.0, 2.3.1, 2.4.0, 2.4.1, 2.5.0, 2.5.1, 2.6.0, 2.7.0, 2.7.1)\u001b[0m\u001b[31m\n",
            "\u001b[0m\u001b[31mERROR: No matching distribution found for torch==1.12.1 (from -r requirements.txt (line 2))\u001b[0m\u001b[31m\n",
            "\u001b[0m"
          ]
        }
      ]
    },
    {
      "cell_type": "code",
      "source": [
        "pip install h5py\n",
        "pip install typing-extensions\n",
        "pip install wheel"
      ],
      "metadata": {
        "id": "FqT1mfbj9u5j",
        "outputId": "4966f995-c57b-4338-9857-7c8a79293c21",
        "colab": {
          "base_uri": "https://localhost:8080/",
          "height": 106
        }
      },
      "execution_count": 3,
      "outputs": [
        {
          "output_type": "error",
          "ename": "SyntaxError",
          "evalue": "invalid syntax (ipython-input-3-3836157812.py, line 1)",
          "traceback": [
            "\u001b[0;36m  File \u001b[0;32m\"/tmp/ipython-input-3-3836157812.py\"\u001b[0;36m, line \u001b[0;32m1\u001b[0m\n\u001b[0;31m    pip uninstall daal==2021.5.0\u001b[0m\n\u001b[0m        ^\u001b[0m\n\u001b[0;31mSyntaxError\u001b[0m\u001b[0;31m:\u001b[0m invalid syntax\n"
          ]
        }
      ]
    }
  ],
  "metadata": {
    "accelerator": "GPU",
    "colab": {
      "provenance": [],
      "gpuClass": "premium",
      "include_colab_link": true
    },
    "gpuClass": "premium",
    "kernelspec": {
      "display_name": "Python 3",
      "name": "python3"
    },
    "language_info": {
      "name": "python"
    }
  },
  "nbformat": 4,
  "nbformat_minor": 0
}