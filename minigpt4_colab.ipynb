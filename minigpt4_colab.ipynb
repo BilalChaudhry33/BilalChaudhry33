{
  "cells": [
    {
      "cell_type": "markdown",
      "metadata": {
        "id": "view-in-github",
        "colab_type": "text"
      },
      "source": [
        "<a href=\"https://colab.research.google.com/github/BilalChaudhry33/BilalChaudhry33/blob/main/minigpt4_colab.ipynb\" target=\"_parent\"><img src=\"https://colab.research.google.com/assets/colab-badge.svg\" alt=\"Open In Colab\"/></a>"
      ]
    },
    {
      "cell_type": "code",
      "execution_count": null,
      "metadata": {
        "id": "QdfSfmJD4fAc"
      },
      "outputs": [],
      "source": [
        "# Clone and download weights\n",
        "!git clone -b dev https://github.com/camenduru/minigpt4\n",
        "!wget https://huggingface.co/ckpt/minigpt4/resolve/main/minigpt4.pth -O /content/minigpt4/checkpoint.pth\n",
        "!wget https://huggingface.co/ckpt/minigpt4/resolve/main/blip2_pretrained_flant5xxl.pth -O /content/minigpt4/blip2_pretrained_flant5xxl.pth\n",
        "\n",
        "# First install numpy and opencv with compatible versions\n",
        "!pip install -q numpy==1.23.5 opencv-python-headless==4.9.0.80\n",
        "\n",
        "# Then install other dependencies\n",
        "!pip install -q salesforce-lavis==1.0.2\n",
        "!pip install -q bitsandbytes accelerate\n",
        "!pip install -q gradio==3.27.0\n",
        "!pip install -q git+https://github.com/huggingface/transformers.git@v4.26.1\n",
        "\n",
        "# Fix potential ABI issues\n",
        "import numpy as np\n",
        "print(f\"NumPy version: {np.__version__}\")\n",
        "import cv2\n",
        "print(f\"OpenCV version: {cv2.__version__}\")\n",
        "\n",
        "# Run app\n",
        "%cd /content/minigpt4\n",
        "!python app.py"
      ]
    }
  ],
  "metadata": {
    "accelerator": "GPU",
    "colab": {
      "provenance": [],
      "gpuClass": "premium",
      "include_colab_link": true
    },
    "gpuClass": "premium",
    "kernelspec": {
      "display_name": "Python 3",
      "name": "python3"
    },
    "language_info": {
      "name": "python"
    }
  },
  "nbformat": 4,
  "nbformat_minor": 0
}