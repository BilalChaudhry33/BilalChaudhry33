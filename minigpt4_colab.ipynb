{
  "cells": [
    {
      "cell_type": "markdown",
      "metadata": {
        "id": "view-in-github",
        "colab_type": "text"
      },
      "source": [
        "<a href=\"https://colab.research.google.com/github/BilalChaudhry33/BilalChaudhry33/blob/main/minigpt4_colab.ipynb\" target=\"_parent\"><img src=\"https://colab.research.google.com/assets/colab-badge.svg\" alt=\"Open In Colab\"/></a>"
      ]
    },
    {
      "cell_type": "code",
      "execution_count": null,
      "metadata": {
        "id": "QdfSfmJD4fAc"
      },
      "outputs": [],
      "source": [
        "# ✅ SETUP + FIX MiniGPT-4 in ONE CELL\n",
        "\n",
        "# Clone repo and prepare folders\n",
        "!git clone -b dev https://github.com/camenduru/minigpt4\n",
        "!mkdir -p /content/minigpt4/checkpoints\n",
        "\n",
        "# Download weights\n",
        "!wget https://huggingface.co/ckpt/minigpt4/resolve/main/minigpt4.pth -O /content/minigpt4/checkpoints/minigpt4.pth\n",
        "!wget https://huggingface.co/ckpt/minigpt4/resolve/main/blip2_pretrained_flant5xxl.pth -O /content/minigpt4/checkpoints/blip2_pretrained_flant5xxl.pth\n",
        "\n",
        "# Install dependencies\n",
        "!pip install -q salesforce-lavis bitsandbytes accelerate gradio==3.27.0\n",
        "!pip install -q git+https://github.com/huggingface/transformers.git -U\n",
        "\n",
        "# ⚠️ Fix numpy / OpenCV compatibility issue\n",
        "!pip uninstall -y numpy opencv-python-headless\n",
        "!pip install numpy==1.23.5 opencv-python-headless==4.9.0.80\n",
        "\n",
        "# Launch app\n",
        "%cd /content/minigpt4\n",
        "!python app.py\n"
      ]
    }
  ],
  "metadata": {
    "accelerator": "GPU",
    "colab": {
      "provenance": [],
      "gpuClass": "premium",
      "include_colab_link": true
    },
    "gpuClass": "premium",
    "kernelspec": {
      "display_name": "Python 3",
      "name": "python3"
    },
    "language_info": {
      "name": "python"
    }
  },
  "nbformat": 4,
  "nbformat_minor": 0
}